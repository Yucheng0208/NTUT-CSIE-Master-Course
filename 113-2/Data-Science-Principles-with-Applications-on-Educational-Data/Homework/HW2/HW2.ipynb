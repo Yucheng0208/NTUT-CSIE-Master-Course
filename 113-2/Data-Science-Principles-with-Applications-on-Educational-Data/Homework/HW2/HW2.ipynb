{
 "cells": [
  {
   "cell_type": "markdown",
   "metadata": {
    "id": "9hgJfjjMcYGW"
   },
   "source": [
    "## Data Science Principles with Applications on Educational Data, Spring 2025\n",
    "## HW2\n",
    "### Due date: 05/28/2025\n",
    "\n",
    "### Student ID: 113598043\n",
    "### Name: 張育丞\n",
    "\n",
    "##### This homework set is to practice some common operations for the visualization of data. Please go through each question to provide your answer. In the meantime, we use the famous iris data set as an example for your reference. First, please load the working dataset \"exam_results\" provided with .csv format. Of course, you can check the manual or related documents on-line easily if you would like to explore more for the related library.\n",
    "\n",
    "\n",
    "###   Visualize the data with  **seaborn**\n",
    "* use the **exam_results.csv** as the dataset"
   ]
  },
  {
   "cell_type": "markdown",
   "metadata": {
    "id": "2_ErVlRVnFgc"
   },
   "source": [
    "### Load the dataset"
   ]
  },
  {
   "cell_type": "code",
   "execution_count": null,
   "metadata": {
    "colab": {
     "base_uri": "https://localhost:8080/",
     "height": 256
    },
    "id": "6FKzrXcxXq3j",
    "outputId": "31c591af-39dc-4aa9-a9a5-bcfe8c7b3849"
   },
   "outputs": [
    {
     "data": {
      "text/html": [
       "<div>\n",
       "<style scoped>\n",
       "    .dataframe tbody tr th:only-of-type {\n",
       "        vertical-align: middle;\n",
       "    }\n",
       "\n",
       "    .dataframe tbody tr th {\n",
       "        vertical-align: top;\n",
       "    }\n",
       "\n",
       "    .dataframe thead th {\n",
       "        text-align: right;\n",
       "    }\n",
       "</style>\n",
       "<table border=\"1\" class=\"dataframe\">\n",
       "  <thead>\n",
       "    <tr style=\"text-align: right;\">\n",
       "      <th></th>\n",
       "      <th>school</th>\n",
       "      <th>year</th>\n",
       "      <th>semester</th>\n",
       "      <th>grade</th>\n",
       "      <th>class</th>\n",
       "      <th>number</th>\n",
       "      <th>student_number</th>\n",
       "      <th>sex</th>\n",
       "      <th>chinese_1</th>\n",
       "      <th>chinese_2</th>\n",
       "      <th>...</th>\n",
       "      <th>math_3</th>\n",
       "      <th>english_1</th>\n",
       "      <th>english_2</th>\n",
       "      <th>english_3</th>\n",
       "      <th>science_1</th>\n",
       "      <th>science_2</th>\n",
       "      <th>science_3</th>\n",
       "      <th>society_1</th>\n",
       "      <th>society_2</th>\n",
       "      <th>society_3</th>\n",
       "    </tr>\n",
       "  </thead>\n",
       "  <tbody>\n",
       "    <tr>\n",
       "      <th>0</th>\n",
       "      <td>1</td>\n",
       "      <td>108</td>\n",
       "      <td>1</td>\n",
       "      <td>7</td>\n",
       "      <td>1</td>\n",
       "      <td>1</td>\n",
       "      <td>10801</td>\n",
       "      <td>Female</td>\n",
       "      <td>84.0</td>\n",
       "      <td>85.0</td>\n",
       "      <td>...</td>\n",
       "      <td>100.0</td>\n",
       "      <td>94.0</td>\n",
       "      <td>98.0</td>\n",
       "      <td>96.0</td>\n",
       "      <td>86.0</td>\n",
       "      <td>90.0</td>\n",
       "      <td>93.0</td>\n",
       "      <td>71.0</td>\n",
       "      <td>99.0</td>\n",
       "      <td>92.0</td>\n",
       "    </tr>\n",
       "    <tr>\n",
       "      <th>1</th>\n",
       "      <td>1</td>\n",
       "      <td>108</td>\n",
       "      <td>1</td>\n",
       "      <td>7</td>\n",
       "      <td>1</td>\n",
       "      <td>2</td>\n",
       "      <td>10802</td>\n",
       "      <td>Female</td>\n",
       "      <td>86.0</td>\n",
       "      <td>80.0</td>\n",
       "      <td>...</td>\n",
       "      <td>64.0</td>\n",
       "      <td>87.0</td>\n",
       "      <td>92.0</td>\n",
       "      <td>89.0</td>\n",
       "      <td>81.0</td>\n",
       "      <td>79.0</td>\n",
       "      <td>96.0</td>\n",
       "      <td>87.0</td>\n",
       "      <td>89.0</td>\n",
       "      <td>90.0</td>\n",
       "    </tr>\n",
       "    <tr>\n",
       "      <th>2</th>\n",
       "      <td>1</td>\n",
       "      <td>108</td>\n",
       "      <td>1</td>\n",
       "      <td>7</td>\n",
       "      <td>1</td>\n",
       "      <td>3</td>\n",
       "      <td>10803</td>\n",
       "      <td>Female</td>\n",
       "      <td>74.0</td>\n",
       "      <td>82.0</td>\n",
       "      <td>...</td>\n",
       "      <td>78.0</td>\n",
       "      <td>94.0</td>\n",
       "      <td>97.0</td>\n",
       "      <td>97.0</td>\n",
       "      <td>78.0</td>\n",
       "      <td>83.0</td>\n",
       "      <td>93.0</td>\n",
       "      <td>68.0</td>\n",
       "      <td>98.0</td>\n",
       "      <td>67.0</td>\n",
       "    </tr>\n",
       "    <tr>\n",
       "      <th>3</th>\n",
       "      <td>1</td>\n",
       "      <td>108</td>\n",
       "      <td>1</td>\n",
       "      <td>7</td>\n",
       "      <td>1</td>\n",
       "      <td>4</td>\n",
       "      <td>10804</td>\n",
       "      <td>Female</td>\n",
       "      <td>78.0</td>\n",
       "      <td>69.0</td>\n",
       "      <td>...</td>\n",
       "      <td>50.0</td>\n",
       "      <td>71.0</td>\n",
       "      <td>66.0</td>\n",
       "      <td>74.0</td>\n",
       "      <td>80.0</td>\n",
       "      <td>61.0</td>\n",
       "      <td>89.0</td>\n",
       "      <td>71.0</td>\n",
       "      <td>87.0</td>\n",
       "      <td>57.0</td>\n",
       "    </tr>\n",
       "    <tr>\n",
       "      <th>4</th>\n",
       "      <td>1</td>\n",
       "      <td>108</td>\n",
       "      <td>1</td>\n",
       "      <td>7</td>\n",
       "      <td>1</td>\n",
       "      <td>5</td>\n",
       "      <td>10805</td>\n",
       "      <td>Female</td>\n",
       "      <td>52.0</td>\n",
       "      <td>72.0</td>\n",
       "      <td>...</td>\n",
       "      <td>29.0</td>\n",
       "      <td>41.0</td>\n",
       "      <td>46.0</td>\n",
       "      <td>62.0</td>\n",
       "      <td>73.0</td>\n",
       "      <td>60.0</td>\n",
       "      <td>69.0</td>\n",
       "      <td>48.0</td>\n",
       "      <td>66.0</td>\n",
       "      <td>73.0</td>\n",
       "    </tr>\n",
       "  </tbody>\n",
       "</table>\n",
       "<p>5 rows × 23 columns</p>\n",
       "</div>"
      ],
      "text/plain": [
       "   school  year  semester  grade  class  number  student_number     sex  \\\n",
       "0       1   108         1      7      1       1           10801  Female   \n",
       "1       1   108         1      7      1       2           10802  Female   \n",
       "2       1   108         1      7      1       3           10803  Female   \n",
       "3       1   108         1      7      1       4           10804  Female   \n",
       "4       1   108         1      7      1       5           10805  Female   \n",
       "\n",
       "   chinese_1  chinese_2  ...  math_3  english_1  english_2  english_3  \\\n",
       "0       84.0       85.0  ...   100.0       94.0       98.0       96.0   \n",
       "1       86.0       80.0  ...    64.0       87.0       92.0       89.0   \n",
       "2       74.0       82.0  ...    78.0       94.0       97.0       97.0   \n",
       "3       78.0       69.0  ...    50.0       71.0       66.0       74.0   \n",
       "4       52.0       72.0  ...    29.0       41.0       46.0       62.0   \n",
       "\n",
       "   science_1  science_2  science_3  society_1  society_2  society_3  \n",
       "0       86.0       90.0       93.0       71.0       99.0       92.0  \n",
       "1       81.0       79.0       96.0       87.0       89.0       90.0  \n",
       "2       78.0       83.0       93.0       68.0       98.0       67.0  \n",
       "3       80.0       61.0       89.0       71.0       87.0       57.0  \n",
       "4       73.0       60.0       69.0       48.0       66.0       73.0  \n",
       "\n",
       "[5 rows x 23 columns]"
      ]
     },
     "execution_count": 1,
     "metadata": {},
     "output_type": "execute_result"
    }
   ],
   "source": [
    "import pandas as pd\n",
    "import numpy as np\n",
    "import seaborn as sns\n",
    "import matplotlib.pyplot as plt\n",
    "\n",
    "# Load the dataset from the file path\n",
    "df = pd.read_csv('exam_results.csv')\n",
    "iris = sns.load_dataset('iris')\n",
    "\n",
    "# example\n",
    "iris.head()\n",
    "df.head()"
   ]
  },
  {
   "cell_type": "markdown",
   "metadata": {
    "id": "ORNnm886YJC8"
   },
   "source": [
    "### Select the column `year` and plot a bar chart\n",
    "\n",
    "- `sns.countplot(\"col1\", data = \"dataset\")`"
   ]
  },
  {
   "cell_type": "code",
   "execution_count": null,
   "metadata": {
    "colab": {
     "base_uri": "https://localhost:8080/",
     "height": 466
    },
    "id": "7ME9cy0j6AzW",
    "outputId": "2509c942-9323-4a74-ba3f-df7090e3e440"
   },
   "outputs": [
    {
     "data": {
      "text/plain": [
       "<Axes: xlabel='species', ylabel='count'>"
      ]
     },
     "execution_count": 2,
     "metadata": {},
     "output_type": "execute_result"
    },
    {
     "data": {
      "image/png": "[encoded data removed]",
      "text/plain": [
       "<Figure size 640x480 with 1 Axes>"
      ]
     },
     "metadata": {},
     "output_type": "display_data"
    }
   ],
   "source": [
    "# example\n",
    "sns.countplot(x=\"species\", data=iris)"
   ]
  },
  {
   "cell_type": "markdown",
   "metadata": {
    "id": "6QRuCBxkvct6"
   },
   "source": [
    "- Please select column `year` in `exam_results.csv` and plot a bar chart"
   ]
  },
  {
   "cell_type": "code",
   "execution_count": null,
   "metadata": {},
   "outputs": [],
   "source": [
    "sns.countplot(x=\"year\", data=df)"
   ]
  },
  {
   "cell_type": "markdown",
   "metadata": {
    "id": "h4x-FqMObzfa"
   },
   "source": [
    "### Use the column **year** as x-axis and the column **math_2** as y-axis to plot the bar plot\n",
    "-  `sns.barplot(data=\"dataset\", x=\"col1\", y=\"col2\",  estimator = np.median)`"
   ]
  },
  {
   "cell_type": "code",
   "execution_count": null,
   "metadata": {
    "colab": {
     "base_uri": "https://localhost:8080/",
     "height": 485
    },
    "id": "ZgacDZQU60k_",
    "outputId": "6977bc3f-60d4-49ab-a38f-522c44d1501f"
   },
   "outputs": [],
   "source": [
    "# example\n",
    "plt.figure(figsize=(8,5))\n",
    "sns.barplot(data=iris, x=\"species\", y=\"sepal_length\", estimator = np.median)"
   ]
  },
  {
   "cell_type": "markdown",
   "metadata": {
    "id": "DBkhXFgsvct7"
   },
   "source": [
    "- Please use the column **year** as x-axis and the column **math_2** as y-axis to plot the bar plot"
   ]
  },
  {
   "cell_type": "code",
   "execution_count": null,
   "metadata": {
    "id": "GvovpMFchKBx"
   },
   "outputs": [],
   "source": [
    "sns.barplot(data=df, x=\"year\", y=\"math_2\", estimator=np.median)"
   ]
  },
  {
   "cell_type": "markdown",
   "metadata": {
    "id": "Dp8N0m51i1g_"
   },
   "source": [
    "### Visualize the distributions  of   **math_1** and **math_3** with **year**\n",
    "\n",
    " - sns.jointplot(data=\"dataset\", x=\"col1\", y=\"col2\", hue=\"year\")"
   ]
  },
  {
   "cell_type": "code",
   "execution_count": null,
   "metadata": {
    "colab": {
     "base_uri": "https://localhost:8080/",
     "height": 624
    },
    "id": "_3RqGwKd7RKM",
    "outputId": "81a17c18-ed0a-4791-fef0-3cac7afc3a51"
   },
   "outputs": [],
   "source": [
    "# exmaple\n",
    "sns.jointplot(data=iris, x=\"sepal_length\", y=\"sepal_width\", hue=\"species\")"
   ]
  },
  {
   "cell_type": "code",
   "execution_count": null,
   "metadata": {
    "id": "oX9hUTDNi07_"
   },
   "outputs": [],
   "source": [
    "sns.jointplot(data=df, x=\"math_1\", y=\"math_3\", xlim=[0,100], ylim=[0,100], hue=\"year\")"
   ]
  },
  {
   "cell_type": "markdown",
   "metadata": {
    "id": "sXQyk-uLnPNz"
   },
   "source": [
    "### Select the following column to plot the seaborn pairplot - Example\n",
    "\n",
    "- sepal_length\n",
    "- sepal_width\n",
    "- petal_length\n",
    "- petal_width\n",
    "- species\n",
    "\n",
    "hue use **species**\n",
    "\n",
    "- sns.pairplot(data=df[[\"cols\"]], hue=\"subject\")"
   ]
  },
  {
   "cell_type": "code",
   "execution_count": null,
   "metadata": {
    "colab": {
     "base_uri": "https://localhost:8080/",
     "height": 972
    },
    "id": "pJ04ONI67yGv",
    "outputId": "dcb4b35f-7643-4367-8632-5e98454fb2bf"
   },
   "outputs": [],
   "source": [
    "# example\n",
    "sns.pairplot(data=iris[['sepal_length', 'sepal_width', 'petal_length', 'petal_width', 'species']], hue=\"species\")"
   ]
  },
  {
   "cell_type": "markdown",
   "metadata": {
    "id": "VRfLPOrMvct8"
   },
   "source": [
    "### Select the following column to plot the seaborn pairplot\n",
    "- chinese_1\n",
    "- math_1\n",
    "- english_1\n",
    "- science_1\n",
    "- society_1\n",
    "- year\n",
    "\n",
    "hue use **year**\n",
    "\n",
    "- sns.pairplot(data=df[[\"cols\"]], hue=\"year\")"
   ]
  },
  {
   "cell_type": "code",
   "execution_count": null,
   "metadata": {
    "id": "1aNlJMgVl5E2"
   },
   "outputs": [],
   "source": [
    "sns.pairplot(data=df[['chinese_1', 'math_1', 'english_1', 'science_1', 'society_1', 'year']], hue=\"year\")"
   ]
  }
 ],
 "metadata": {
  "colab": {
   "provenance": []
  },
  "kernelspec": {
   "display_name": "Python 3",
   "language": "python",
   "name": "python3"
  },
  "language_info": {
   "codemirror_mode": {
    "name": "ipython",
    "version": 3
   },
   "file_extension": ".py",
   "mimetype": "text/x-python",
   "name": "python",
   "nbconvert_exporter": "python",
   "pygments_lexer": "ipython3",
   "version": "3.12.9"
  }
 },
 "nbformat": 4,
 "nbformat_minor": 1
}
